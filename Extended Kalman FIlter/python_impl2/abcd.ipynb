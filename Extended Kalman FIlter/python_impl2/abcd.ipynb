{
 "cells": [
  {
   "cell_type": "code",
   "execution_count": 1,
   "metadata": {},
   "outputs": [],
   "source": [
    "import numpy as np\n",
    "import matplotlib.pyplot as plt"
   ]
  },
  {
   "cell_type": "code",
   "execution_count": 2,
   "metadata": {},
   "outputs": [],
   "source": [
    "a = np.matrix( [[3.29734431, 3.30744322, 3.31566599, 3.32197948, 3.32635829, 3.32878478,\n",
    "  3.32924918, 3.32774962, 3.32429213, 3.31889065, 3.31156692, 3.30235042,\n",
    "  3.29127828, 3.27839507, 3.26375267, 3.24741005, 3.229433  , 3.20989391,\n",
    "  3.18887147, 3.16645032, 3.14272074, 3.11777828, 3.09172339, 3.06466096,\n",
    "  3.03669998, 3.00795303, 2.97853586, 2.94856694, 2.91816693, 2.88745823,\n",
    "  2.85656452, 2.82561018, 2.79471985, 2.76401793, 2.73362803, 2.70367253,\n",
    "  2.67427204, 2.64554496, 2.61760695, 2.59057051, 2.56454451, 2.53963375,\n",
    "  2.51593853, 2.49355426, 2.47257108, 2.45307348, 2.43513997, 2.41884276,\n",
    "  2.40424748, 2.39141289, 2.38039068, 2.37122523, 2.36395344, 2.35860459,\n",
    "  2.35520023, 2.35375406, 2.3542719 , 2.35675167, 2.36118338, 2.3675492,\n",
    "  2.37582348, 2.38597291, 2.39795662, 2.41172635, 2.42722667, 2.44439515,\n",
    "  2.46316266, 2.48345364, 2.50518638, 2.52827337, 2.55262165, 2.57813317,\n",
    "  2.60470521, 2.63223077, 2.66059902, 2.68969572, 2.71940372, 2.7496034,\n",
    "  2.78017314, 2.81098986, 2.84192946, 2.87286737, 2.90367901, 2.93424031,\n",
    "  2.9644282 , 2.99412115, 3.02319957, 3.05154639, 3.07904746, 3.10559204,\n",
    "  3.13107325, 3.15538849, 3.17843984, 3.20013448, 3.22038507, 3.23911005,\n",
    "  3.25623403, 3.27168806, 3.2854099 , 3.29734431],\n",
    " [3.83819083, 3.85922143, 3.88115189, 3.90389392, 3.92735592, 3.95144345,\n",
    "  3.97605949, 4.00110493, 4.02647893, 4.0520793 , 4.07780297, 4.10354635,\n",
    "  4.12920579, 4.15467797, 4.17986031, 4.20465142, 4.22895147, 4.25266261,\n",
    "  4.27568937, 4.29793903, 4.31932199, 4.33975215, 4.35914726, 4.3774292,\n",
    "  4.39452437, 4.41036393, 4.4248841 , 4.43802642, 4.44973795, 4.45997155,\n",
    "  4.46868601, 4.47584624, 4.4814234 , 4.48539503, 4.48774516, 4.48846431,\n",
    "  4.48754958, 4.48500467, 4.48083981, 4.47507178, 4.4677238 , 4.45882547,\n",
    "  4.44841261, 4.43652715, 4.42321695, 4.4085356 , 4.39254223, 4.37530123,\n",
    "  4.35688202, 4.33735878, 4.31681011, 4.29531876, 4.27297126, 4.24985761,\n",
    "  4.22607086, 4.20170682, 4.17686357, 4.15164115, 4.12614113, 4.10046618,\n",
    "  4.07471969, 4.04900533, 4.02342665, 3.99808663, 3.97308732, 3.94852938,\n",
    "  3.92451169, 3.90113097, 3.87848136, 3.85665406, 3.83573696, 3.8158143,\n",
    "  3.79696629, 3.77926882, 3.76279316, 3.74760564, 3.73376744, 3.72133425,\n",
    "  3.71035616, 3.70087736, 3.69293602, 3.68656412, 3.68178731, 3.67862484,\n",
    "  3.67708943, 3.67718727, 3.67891796, 3.68227454, 3.68724348, 3.69380479,\n",
    "  3.70193203, 3.71159249, 3.72274727, 3.73535145, 3.74935427, 3.76469935,\n",
    "  3.78132491, 3.799164  , 3.81814478, 3.83819083]])"
   ]
  },
  {
   "cell_type": "code",
   "execution_count": 3,
   "metadata": {},
   "outputs": [
    {
     "data": {
      "text/plain": [
       "[<matplotlib.lines.Line2D at 0x7fc424161e40>,\n",
       " <matplotlib.lines.Line2D at 0x7fc424161ff0>,\n",
       " <matplotlib.lines.Line2D at 0x7fc424162170>,\n",
       " <matplotlib.lines.Line2D at 0x7fc4241622f0>,\n",
       " <matplotlib.lines.Line2D at 0x7fc424162470>,\n",
       " <matplotlib.lines.Line2D at 0x7fc4241625f0>,\n",
       " <matplotlib.lines.Line2D at 0x7fc424162770>,\n",
       " <matplotlib.lines.Line2D at 0x7fc4241628f0>,\n",
       " <matplotlib.lines.Line2D at 0x7fc424162a70>,\n",
       " <matplotlib.lines.Line2D at 0x7fc424162bf0>,\n",
       " <matplotlib.lines.Line2D at 0x7fc424162d70>,\n",
       " <matplotlib.lines.Line2D at 0x7fc424162ec0>,\n",
       " <matplotlib.lines.Line2D at 0x7fc424163040>,\n",
       " <matplotlib.lines.Line2D at 0x7fc4241631c0>,\n",
       " <matplotlib.lines.Line2D at 0x7fc424163340>,\n",
       " <matplotlib.lines.Line2D at 0x7fc4241634c0>,\n",
       " <matplotlib.lines.Line2D at 0x7fc424163640>,\n",
       " <matplotlib.lines.Line2D at 0x7fc4241637c0>,\n",
       " <matplotlib.lines.Line2D at 0x7fc424163940>,\n",
       " <matplotlib.lines.Line2D at 0x7fc424163ac0>,\n",
       " <matplotlib.lines.Line2D at 0x7fc424163c40>,\n",
       " <matplotlib.lines.Line2D at 0x7fc424163dc0>,\n",
       " <matplotlib.lines.Line2D at 0x7fc424163f40>,\n",
       " <matplotlib.lines.Line2D at 0x7fc424190130>,\n",
       " <matplotlib.lines.Line2D at 0x7fc4241902b0>,\n",
       " <matplotlib.lines.Line2D at 0x7fc424190430>,\n",
       " <matplotlib.lines.Line2D at 0x7fc4241905b0>,\n",
       " <matplotlib.lines.Line2D at 0x7fc424190730>,\n",
       " <matplotlib.lines.Line2D at 0x7fc4241908b0>,\n",
       " <matplotlib.lines.Line2D at 0x7fc424190a30>,\n",
       " <matplotlib.lines.Line2D at 0x7fc424190bb0>,\n",
       " <matplotlib.lines.Line2D at 0x7fc424190d30>,\n",
       " <matplotlib.lines.Line2D at 0x7fc424190eb0>,\n",
       " <matplotlib.lines.Line2D at 0x7fc424191030>,\n",
       " <matplotlib.lines.Line2D at 0x7fc4241911b0>,\n",
       " <matplotlib.lines.Line2D at 0x7fc424191330>,\n",
       " <matplotlib.lines.Line2D at 0x7fc4241914b0>,\n",
       " <matplotlib.lines.Line2D at 0x7fc424191630>,\n",
       " <matplotlib.lines.Line2D at 0x7fc4241917b0>,\n",
       " <matplotlib.lines.Line2D at 0x7fc424191930>,\n",
       " <matplotlib.lines.Line2D at 0x7fc424191ab0>,\n",
       " <matplotlib.lines.Line2D at 0x7fc424191c30>,\n",
       " <matplotlib.lines.Line2D at 0x7fc424191db0>,\n",
       " <matplotlib.lines.Line2D at 0x7fc424191f30>,\n",
       " <matplotlib.lines.Line2D at 0x7fc4241920b0>,\n",
       " <matplotlib.lines.Line2D at 0x7fc424192230>,\n",
       " <matplotlib.lines.Line2D at 0x7fc4241923b0>,\n",
       " <matplotlib.lines.Line2D at 0x7fc424192530>,\n",
       " <matplotlib.lines.Line2D at 0x7fc4241926b0>,\n",
       " <matplotlib.lines.Line2D at 0x7fc424192830>,\n",
       " <matplotlib.lines.Line2D at 0x7fc4241929b0>,\n",
       " <matplotlib.lines.Line2D at 0x7fc424192b30>,\n",
       " <matplotlib.lines.Line2D at 0x7fc424192cb0>,\n",
       " <matplotlib.lines.Line2D at 0x7fc424192e30>,\n",
       " <matplotlib.lines.Line2D at 0x7fc424192fb0>,\n",
       " <matplotlib.lines.Line2D at 0x7fc424193130>,\n",
       " <matplotlib.lines.Line2D at 0x7fc4241932b0>,\n",
       " <matplotlib.lines.Line2D at 0x7fc424193430>,\n",
       " <matplotlib.lines.Line2D at 0x7fc424160a30>,\n",
       " <matplotlib.lines.Line2D at 0x7fc424160640>,\n",
       " <matplotlib.lines.Line2D at 0x7fc4240cb2e0>,\n",
       " <matplotlib.lines.Line2D at 0x7fc4240ca2f0>,\n",
       " <matplotlib.lines.Line2D at 0x7fc4240cb6a0>,\n",
       " <matplotlib.lines.Line2D at 0x7fc4240ca4d0>,\n",
       " <matplotlib.lines.Line2D at 0x7fc4240cb0d0>,\n",
       " <matplotlib.lines.Line2D at 0x7fc437807970>,\n",
       " <matplotlib.lines.Line2D at 0x7fc4240f0760>,\n",
       " <matplotlib.lines.Line2D at 0x7fc4240f2f80>,\n",
       " <matplotlib.lines.Line2D at 0x7fc4240f17e0>,\n",
       " <matplotlib.lines.Line2D at 0x7fc4240f3100>,\n",
       " <matplotlib.lines.Line2D at 0x7fc4240f1810>,\n",
       " <matplotlib.lines.Line2D at 0x7fc4240f2050>,\n",
       " <matplotlib.lines.Line2D at 0x7fc4240f29e0>,\n",
       " <matplotlib.lines.Line2D at 0x7fc4240f2c20>,\n",
       " <matplotlib.lines.Line2D at 0x7fc424193610>,\n",
       " <matplotlib.lines.Line2D at 0x7fc424193790>,\n",
       " <matplotlib.lines.Line2D at 0x7fc424193910>,\n",
       " <matplotlib.lines.Line2D at 0x7fc424193a90>,\n",
       " <matplotlib.lines.Line2D at 0x7fc424193c10>,\n",
       " <matplotlib.lines.Line2D at 0x7fc424193d90>,\n",
       " <matplotlib.lines.Line2D at 0x7fc424193f10>,\n",
       " <matplotlib.lines.Line2D at 0x7fc413f000d0>,\n",
       " <matplotlib.lines.Line2D at 0x7fc413f00250>,\n",
       " <matplotlib.lines.Line2D at 0x7fc413f003d0>,\n",
       " <matplotlib.lines.Line2D at 0x7fc413f00550>,\n",
       " <matplotlib.lines.Line2D at 0x7fc413f006d0>,\n",
       " <matplotlib.lines.Line2D at 0x7fc413f00850>,\n",
       " <matplotlib.lines.Line2D at 0x7fc413f009d0>,\n",
       " <matplotlib.lines.Line2D at 0x7fc413f00b50>,\n",
       " <matplotlib.lines.Line2D at 0x7fc413f00cd0>,\n",
       " <matplotlib.lines.Line2D at 0x7fc413f00e50>,\n",
       " <matplotlib.lines.Line2D at 0x7fc413f00fd0>,\n",
       " <matplotlib.lines.Line2D at 0x7fc413f01150>,\n",
       " <matplotlib.lines.Line2D at 0x7fc413f012d0>,\n",
       " <matplotlib.lines.Line2D at 0x7fc413f01450>,\n",
       " <matplotlib.lines.Line2D at 0x7fc413f015d0>,\n",
       " <matplotlib.lines.Line2D at 0x7fc413f01750>,\n",
       " <matplotlib.lines.Line2D at 0x7fc413f018d0>,\n",
       " <matplotlib.lines.Line2D at 0x7fc413f01a50>,\n",
       " <matplotlib.lines.Line2D at 0x7fc413f01bd0>]"
      ]
     },
     "execution_count": 3,
     "metadata": {},
     "output_type": "execute_result"
    },
    {
     "data": {
      "image/png": "[encoded data removed]",
      "text/plain": [
       "<Figure size 640x480 with 1 Axes>"
      ]
     },
     "metadata": {},
     "output_type": "display_data"
    }
   ],
   "source": [
    "plt.cla()\n",
    "# plt.scatter(3.0, 4.2,marker=\"+\")\n",
    "plt.plot(a[0,:],a[1,:])"
   ]
  },
  {
   "cell_type": "code",
   "execution_count": 5,
   "metadata": {},
   "outputs": [
    {
     "data": {
      "text/plain": [
       "(2, 100)"
      ]
     },
     "execution_count": 5,
     "metadata": {},
     "output_type": "execute_result"
    }
   ],
   "source": [
    "a.shape"
   ]
  },
  {
   "cell_type": "code",
   "execution_count": null,
   "metadata": {},
   "outputs": [],
   "source": []
  }
 ],
 "metadata": {
  "kernelspec": {
   "display_name": "Python 3",
   "language": "python",
   "name": "python3"
  },
  "language_info": {
   "codemirror_mode": {
    "name": "ipython",
    "version": 3
   },
   "file_extension": ".py",
   "mimetype": "text/x-python",
   "name": "python",
   "nbconvert_exporter": "python",
   "pygments_lexer": "ipython3",
   "version": "3.10.6"
  },
  "orig_nbformat": 4,
  "vscode": {
   "interpreter": {
    "hash": "916dbcbb3f70747c44a77c7bcd40155683ae19c65e1c03b4aa3499c5328201f1"
   }
  }
 },
 "nbformat": 4,
 "nbformat_minor": 2
}
